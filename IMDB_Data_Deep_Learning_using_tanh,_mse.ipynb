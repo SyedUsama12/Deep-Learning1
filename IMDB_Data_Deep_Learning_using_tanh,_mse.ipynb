{
  "nbformat": 4,
  "nbformat_minor": 0,
  "metadata": {
    "colab": {
      "name": "IMDB Data Deep Learning using tanh, mse.ipynb",
      "provenance": [],
      "authorship_tag": "ABX9TyN8VNamKrNTAUpsmSNRte1R",
      "include_colab_link": true
    },
    "kernelspec": {
      "name": "python3",
      "display_name": "Python 3"
    },
    "language_info": {
      "name": "python"
    }
  },
  "cells": [
    {
      "cell_type": "markdown",
      "metadata": {
        "id": "view-in-github",
        "colab_type": "text"
      },
      "source": [
        "<a href=\"https://colab.research.google.com/github/SyedUsama12/Deep-Learning1/blob/main/IMDB_Data_Deep_Learning_using_tanh%2C_mse.ipynb\" target=\"_parent\"><img src=\"https://colab.research.google.com/assets/colab-badge.svg\" alt=\"Open In Colab\"/></a>"
      ]
    },
    {
      "cell_type": "code",
      "metadata": {
        "colab": {
          "base_uri": "https://localhost:8080/"
        },
        "id": "0OkJXZfhbSjO",
        "outputId": "7c2e38e1-f4de-4eb0-a8b6-d809b2aaff95"
      },
      "source": [
        "\n",
        "import tensorflow as tf\n",
        "print(tf.__version__)"
      ],
      "execution_count": 1,
      "outputs": [
        {
          "output_type": "stream",
          "text": [
            "2.4.1\n"
          ],
          "name": "stdout"
        }
      ]
    },
    {
      "cell_type": "code",
      "metadata": {
        "id": "Vfrz7Mxsbg06"
      },
      "source": [
        "from keras.datasets import imdb"
      ],
      "execution_count": 2,
      "outputs": []
    },
    {
      "cell_type": "code",
      "metadata": {
        "colab": {
          "base_uri": "https://localhost:8080/"
        },
        "id": "-acxlzNN2ldW",
        "outputId": "c33b3406-64f6-40b5-f38a-d7155dc28db9"
      },
      "source": [
        "(train_data,train_labels),(test_data,test_labels)=imdb.load_data(num_words=10000)"
      ],
      "execution_count": 5,
      "outputs": [
        {
          "output_type": "stream",
          "text": [
            "<string>:6: VisibleDeprecationWarning: Creating an ndarray from ragged nested sequences (which is a list-or-tuple of lists-or-tuples-or ndarrays with different lengths or shapes) is deprecated. If you meant to do this, you must specify 'dtype=object' when creating the ndarray\n",
            "/usr/local/lib/python3.7/dist-packages/tensorflow/python/keras/datasets/imdb.py:159: VisibleDeprecationWarning: Creating an ndarray from ragged nested sequences (which is a list-or-tuple of lists-or-tuples-or ndarrays with different lengths or shapes) is deprecated. If you meant to do this, you must specify 'dtype=object' when creating the ndarray\n",
            "  x_train, y_train = np.array(xs[:idx]), np.array(labels[:idx])\n",
            "/usr/local/lib/python3.7/dist-packages/tensorflow/python/keras/datasets/imdb.py:160: VisibleDeprecationWarning: Creating an ndarray from ragged nested sequences (which is a list-or-tuple of lists-or-tuples-or ndarrays with different lengths or shapes) is deprecated. If you meant to do this, you must specify 'dtype=object' when creating the ndarray\n",
            "  x_test, y_test = np.array(xs[idx:]), np.array(labels[idx:])\n"
          ],
          "name": "stderr"
        }
      ]
    },
    {
      "cell_type": "code",
      "metadata": {
        "colab": {
          "base_uri": "https://localhost:8080/"
        },
        "id": "dFi8A2mB2lsb",
        "outputId": "08806eb1-c6b0-4cac-fb4b-e3e5d8ab9296"
      },
      "source": [
        "len(test_labels)\n"
      ],
      "execution_count": 6,
      "outputs": [
        {
          "output_type": "execute_result",
          "data": {
            "text/plain": [
              "25000"
            ]
          },
          "metadata": {
            "tags": []
          },
          "execution_count": 6
        }
      ]
    },
    {
      "cell_type": "code",
      "metadata": {
        "colab": {
          "base_uri": "https://localhost:8080/"
        },
        "id": "pVnOuWGW2lz_",
        "outputId": "7cbecd2e-df04-49eb-da0a-60dc56d9372d"
      },
      "source": [
        "word_index = imdb.get_word_index()\n",
        "reverse_word_index = dict([(value, key) for (key, value) in word_index.items()])\n",
        "decoded_review = ' '.join([reverse_word_index.get(i - 3, '?') for i in train_data[0]])"
      ],
      "execution_count": 7,
      "outputs": [
        {
          "output_type": "stream",
          "text": [
            "Downloading data from https://storage.googleapis.com/tensorflow/tf-keras-datasets/imdb_word_index.json\n",
            "1646592/1641221 [==============================] - 0s 0us/step\n"
          ],
          "name": "stdout"
        }
      ]
    },
    {
      "cell_type": "code",
      "metadata": {
        "colab": {
          "base_uri": "https://localhost:8080/",
          "height": 154
        },
        "id": "LiUr40hQ2l3m",
        "outputId": "1b59463d-7492-4c51-a8b5-5fc10539a8b4"
      },
      "source": [
        "decoded_review"
      ],
      "execution_count": 8,
      "outputs": [
        {
          "output_type": "execute_result",
          "data": {
            "application/vnd.google.colaboratory.intrinsic+json": {
              "type": "string"
            },
            "text/plain": [
              "\"? this film was just brilliant casting location scenery story direction everyone's really suited the part they played and you could just imagine being there robert ? is an amazing actor and now the same being director ? father came from the same scottish island as myself so i loved the fact there was a real connection with this film the witty remarks throughout the film were great it was just brilliant so much that i bought the film as soon as it was released for ? and would recommend it to everyone to watch and the fly fishing was amazing really cried at the end it was so sad and you know what they say if you cry at a film it must have been good and this definitely was also ? to the two little boy's that played the ? of norman and paul they were just brilliant children are often left out of the ? list i think because the stars that play them all grown up are such a big profile for the whole film but these children are amazing and should be praised for what they have done don't you think the whole story was so lovely because it was true and was someone's life after all that was shared with us all\""
            ]
          },
          "metadata": {
            "tags": []
          },
          "execution_count": 8
        }
      ]
    },
    {
      "cell_type": "code",
      "metadata": {
        "id": "sZZwqylC2l69"
      },
      "source": [
        "import numpy as np\n",
        "def vectorize_sequences(sequences, dimension=10000):\n",
        "  results = np.zeros((len(sequences), dimension))\n",
        "  for i, sequence in enumerate(sequences):\n",
        "    results[i, sequence] = 1\n",
        "  return results\n",
        "x_train = vectorize_sequences(train_data)\n",
        "x_test = vectorize_sequences(test_data)"
      ],
      "execution_count": 9,
      "outputs": []
    },
    {
      "cell_type": "code",
      "metadata": {
        "id": "UpwEhKfjAwlc"
      },
      "source": [
        "y_train=np.asarray(train_labels).astype(\"float32\")\n",
        "y_test=np.asarray(test_labels).astype(\"float32\")"
      ],
      "execution_count": 10,
      "outputs": []
    },
    {
      "cell_type": "code",
      "metadata": {
        "id": "o4Ma9uVU2l-S"
      },
      "source": [
        "from keras import models\n",
        "from keras import layers\n",
        "model = models.Sequential()\n",
        "model.add(layers.Dense(64, activation='tanh', input_shape=(10000,)))\n",
        "model.add(layers.Dense(32, activation='tanh'))\n",
        "model.add(layers.Dense(16, activation='tanh'))\n",
        "model.add(layers.Dense(1, activation='sigmoid'))"
      ],
      "execution_count": 11,
      "outputs": []
    },
    {
      "cell_type": "code",
      "metadata": {
        "id": "Vu1HSkRO9ZRS"
      },
      "source": [
        "model.compile(optimizer='rmsprop',loss='mse',metrics=['accuracy'])"
      ],
      "execution_count": 13,
      "outputs": []
    },
    {
      "cell_type": "code",
      "metadata": {
        "id": "NV6Avkow9ZUs"
      },
      "source": [
        "x_val = x_train[:10000]\n",
        "partial_x_train = x_train[10000:]\n",
        "y_val = y_train[:10000]\n",
        "partial_y_train = y_train[10000:]"
      ],
      "execution_count": 14,
      "outputs": []
    },
    {
      "cell_type": "code",
      "metadata": {
        "colab": {
          "base_uri": "https://localhost:8080/"
        },
        "id": "eZ_PovPK9ZYb",
        "outputId": "47a6163c-6a8c-4fcd-b37e-be82fdf38cc4"
      },
      "source": [
        "history = model.fit(partial_x_train,partial_y_train,epochs=20,batch_size=512,validation_data=(x_val, y_val))"
      ],
      "execution_count": 15,
      "outputs": [
        {
          "output_type": "stream",
          "text": [
            "Epoch 1/20\n",
            "30/30 [==============================] - 3s 64ms/step - loss: 0.2041 - accuracy: 0.6835 - val_loss: 0.0954 - val_accuracy: 0.8780\n",
            "Epoch 2/20\n",
            "30/30 [==============================] - 1s 48ms/step - loss: 0.0722 - accuracy: 0.9102 - val_loss: 0.0935 - val_accuracy: 0.8746\n",
            "Epoch 3/20\n",
            "30/30 [==============================] - 1s 50ms/step - loss: 0.0531 - accuracy: 0.9318 - val_loss: 0.0893 - val_accuracy: 0.8805\n",
            "Epoch 4/20\n",
            "30/30 [==============================] - 1s 48ms/step - loss: 0.0372 - accuracy: 0.9534 - val_loss: 0.1009 - val_accuracy: 0.8675\n",
            "Epoch 5/20\n",
            "30/30 [==============================] - 1s 48ms/step - loss: 0.0288 - accuracy: 0.9649 - val_loss: 0.0957 - val_accuracy: 0.8757\n",
            "Epoch 6/20\n",
            "30/30 [==============================] - 1s 48ms/step - loss: 0.0205 - accuracy: 0.9768 - val_loss: 0.1003 - val_accuracy: 0.8747\n",
            "Epoch 7/20\n",
            "30/30 [==============================] - 1s 50ms/step - loss: 0.0207 - accuracy: 0.9763 - val_loss: 0.1072 - val_accuracy: 0.8707\n",
            "Epoch 8/20\n",
            "30/30 [==============================] - 1s 50ms/step - loss: 0.0190 - accuracy: 0.9788 - val_loss: 0.1059 - val_accuracy: 0.8739\n",
            "Epoch 9/20\n",
            "30/30 [==============================] - 1s 49ms/step - loss: 0.0150 - accuracy: 0.9828 - val_loss: 0.1159 - val_accuracy: 0.8632\n",
            "Epoch 10/20\n",
            "30/30 [==============================] - 1s 49ms/step - loss: 0.0124 - accuracy: 0.9869 - val_loss: 0.1118 - val_accuracy: 0.8698\n",
            "Epoch 11/20\n",
            "30/30 [==============================] - 1s 49ms/step - loss: 0.0089 - accuracy: 0.9904 - val_loss: 0.1158 - val_accuracy: 0.8669\n",
            "Epoch 12/20\n",
            "30/30 [==============================] - 1s 50ms/step - loss: 0.0085 - accuracy: 0.9911 - val_loss: 0.1147 - val_accuracy: 0.8698\n",
            "Epoch 13/20\n",
            "30/30 [==============================] - 1s 49ms/step - loss: 0.0071 - accuracy: 0.9929 - val_loss: 0.1172 - val_accuracy: 0.8686\n",
            "Epoch 14/20\n",
            "30/30 [==============================] - 1s 50ms/step - loss: 0.0090 - accuracy: 0.9906 - val_loss: 0.1177 - val_accuracy: 0.8681\n",
            "Epoch 15/20\n",
            "30/30 [==============================] - 1s 50ms/step - loss: 0.0055 - accuracy: 0.9945 - val_loss: 0.1215 - val_accuracy: 0.8657\n",
            "Epoch 16/20\n",
            "30/30 [==============================] - 1s 50ms/step - loss: 0.0120 - accuracy: 0.9876 - val_loss: 0.1229 - val_accuracy: 0.8648\n",
            "Epoch 17/20\n",
            "30/30 [==============================] - 1s 50ms/step - loss: 0.0082 - accuracy: 0.9914 - val_loss: 0.1200 - val_accuracy: 0.8678\n",
            "Epoch 18/20\n",
            "30/30 [==============================] - 2s 51ms/step - loss: 0.0057 - accuracy: 0.9944 - val_loss: 0.1219 - val_accuracy: 0.8659\n",
            "Epoch 19/20\n",
            "30/30 [==============================] - 1s 50ms/step - loss: 0.0046 - accuracy: 0.9954 - val_loss: 0.1241 - val_accuracy: 0.8643\n",
            "Epoch 20/20\n",
            "30/30 [==============================] - 1s 49ms/step - loss: 0.0107 - accuracy: 0.9882 - val_loss: 0.1235 - val_accuracy: 0.8652\n"
          ],
          "name": "stdout"
        }
      ]
    },
    {
      "cell_type": "code",
      "metadata": {
        "colab": {
          "base_uri": "https://localhost:8080/"
        },
        "id": "BqWAKQA59ZcA",
        "outputId": "e5f44810-2c55-41d9-c19e-c824d79825ef"
      },
      "source": [
        "history_dic=history.history\n",
        "history_dic.keys()"
      ],
      "execution_count": 16,
      "outputs": [
        {
          "output_type": "execute_result",
          "data": {
            "text/plain": [
              "dict_keys(['loss', 'accuracy', 'val_loss', 'val_accuracy'])"
            ]
          },
          "metadata": {
            "tags": []
          },
          "execution_count": 16
        }
      ]
    },
    {
      "cell_type": "code",
      "metadata": {
        "colab": {
          "base_uri": "https://localhost:8080/",
          "height": 295
        },
        "id": "q8uTDpj79Zf9",
        "outputId": "522362aa-843d-4dfa-e581-ee7cad42dd0c"
      },
      "source": [
        "import matplotlib.pyplot as plt\n",
        "loss = history_dic[\"loss\"]\n",
        "val_loss=history_dic[\"val_loss\"]\n",
        "epochs=range(20)\n",
        "plt.plot(epochs,loss,\"bo\",label=\"Traning Loss\",color=\"r\")\n",
        "plt.plot(epochs,val_loss,\"b\",label=\"Validation Loss\",color =\"g\")\n",
        "plt.title(\"Training loss and Validation loss\")\n",
        "plt.xlabel(\"Epochs\")\n",
        "plt.ylabel(\"loss\")\n",
        "plt.legend()\n",
        "plt.show()\n",
        "\n"
      ],
      "execution_count": 19,
      "outputs": [
        {
          "output_type": "display_data",
          "data": {
            "image/png": "[encoded data removed]",
            "text/plain": [
              "<Figure size 432x288 with 1 Axes>"
            ]
          },
          "metadata": {
            "tags": [],
            "needs_background": "light"
          }
        }
      ]
    },
    {
      "cell_type": "code",
      "metadata": {
        "colab": {
          "base_uri": "https://localhost:8080/",
          "height": 295
        },
        "id": "YAsI8dHtJxuC",
        "outputId": "ece04184-fa75-41e3-bef4-2ef32a5034ff"
      },
      "source": [
        "import matplotlib.pyplot as plt\n",
        "acc = history_dic[\"accuracy\"]\n",
        "val_acc=history_dic[\"val_accuracy\"]\n",
        "epochs=range(20)\n",
        "plt.plot(epochs,acc,\"bo\",label=\"Traning acc\",color=\"r\")\n",
        "plt.plot(epochs,val_acc,\"b\",label=\"Validation acc\",color =\"g\")\n",
        "plt.title(\"Training acc and Validation acc\")\n",
        "plt.xlabel(\"Epochs\")\n",
        "plt.ylabel(\"acc\")\n",
        "plt.legend()\n",
        "plt.show()\n"
      ],
      "execution_count": 18,
      "outputs": [
        {
          "output_type": "display_data",
          "data": {
            "image/png": "[encoded data removed]",
            "text/plain": [
              "<Figure size 432x288 with 1 Axes>"
            ]
          },
          "metadata": {
            "tags": [],
            "needs_background": "light"
          }
        }
      ]
    },
    {
      "cell_type": "code",
      "metadata": {
        "colab": {
          "base_uri": "https://localhost:8080/"
        },
        "id": "p2Dyjw7jJx0j",
        "outputId": "2abba96b-36b8-4748-f877-31e5efc4b170"
      },
      "source": [
        "from keras import models\n",
        "from keras import layers\n",
        "model1 = models.Sequential()\n",
        "model1.add(layers.Dense(16, activation='tanh', input_shape=(10000,)))\n",
        "model1.add(layers.Dense(16, activation='tanh'))\n",
        "model1.add(layers.Dense(1, activation='tanh'))\n",
        "model1.compile(optimizer='rmsprop',loss='mse',metrics=['accuracy'])\n",
        "history1 = model1.fit(x_train,y_train,epochs=4,batch_size=512)\n"
      ],
      "execution_count": 20,
      "outputs": [
        {
          "output_type": "stream",
          "text": [
            "Epoch 1/4\n",
            "49/49 [==============================] - 2s 28ms/step - loss: 0.2180 - accuracy: 0.6980\n",
            "Epoch 2/4\n",
            "49/49 [==============================] - 1s 28ms/step - loss: 0.0953 - accuracy: 0.8976\n",
            "Epoch 3/4\n",
            "49/49 [==============================] - 1s 28ms/step - loss: 0.0710 - accuracy: 0.9229\n",
            "Epoch 4/4\n",
            "49/49 [==============================] - 1s 28ms/step - loss: 0.0552 - accuracy: 0.9393\n"
          ],
          "name": "stdout"
        }
      ]
    },
    {
      "cell_type": "code",
      "metadata": {
        "colab": {
          "base_uri": "https://localhost:8080/"
        },
        "id": "U6ckaGJBJymZ",
        "outputId": "b46b9a24-ea94-4f81-f7aa-429108528c3f"
      },
      "source": [
        "result=model1.evaluate(x_test,y_test)"
      ],
      "execution_count": 21,
      "outputs": [
        {
          "output_type": "stream",
          "text": [
            "782/782 [==============================] - 1s 2ms/step - loss: 0.0980 - accuracy: 0.8731\n"
          ],
          "name": "stdout"
        }
      ]
    },
    {
      "cell_type": "code",
      "metadata": {
        "colab": {
          "base_uri": "https://localhost:8080/"
        },
        "id": "-rb_QjaVbtHT",
        "outputId": "f1400dfd-c410-4e2c-9a2d-3864ec407e43"
      },
      "source": [
        "model1.predict(x_test)"
      ],
      "execution_count": 22,
      "outputs": [
        {
          "output_type": "execute_result",
          "data": {
            "text/plain": [
              "array([[ 0.20132339],\n",
              "       [ 0.9855405 ],\n",
              "       [ 0.7061312 ],\n",
              "       ...,\n",
              "       [ 0.19521426],\n",
              "       [-0.00618219],\n",
              "       [ 0.36638066]], dtype=float32)"
            ]
          },
          "metadata": {
            "tags": []
          },
          "execution_count": 22
        }
      ]
    },
    {
      "cell_type": "code",
      "metadata": {
        "id": "EYGkUUXEcaBK"
      },
      "source": [
        ""
      ],
      "execution_count": 71,
      "outputs": []
    },
    {
      "cell_type": "code",
      "metadata": {
        "id": "M3TyQf3Pcw2M"
      },
      "source": [
        ""
      ],
      "execution_count": 71,
      "outputs": []
    },
    {
      "cell_type": "code",
      "metadata": {
        "id": "wgCqHdDSczz5"
      },
      "source": [
        ""
      ],
      "execution_count": 71,
      "outputs": []
    },
    {
      "cell_type": "code",
      "metadata": {
        "id": "pvDa79jvc35P"
      },
      "source": [
        ""
      ],
      "execution_count": 71,
      "outputs": []
    },
    {
      "cell_type": "code",
      "metadata": {
        "id": "yMruVDDfeRb9"
      },
      "source": [
        ""
      ],
      "execution_count": 71,
      "outputs": []
    },
    {
      "cell_type": "code",
      "metadata": {
        "id": "-SS4nO2DeTx9"
      },
      "source": [
        ""
      ],
      "execution_count": 71,
      "outputs": []
    },
    {
      "cell_type": "code",
      "metadata": {
        "id": "Da2WccioehLp"
      },
      "source": [
        ""
      ],
      "execution_count": 71,
      "outputs": []
    },
    {
      "cell_type": "code",
      "metadata": {
        "id": "tVJvBaKGgPYZ"
      },
      "source": [
        ""
      ],
      "execution_count": 71,
      "outputs": []
    },
    {
      "cell_type": "code",
      "metadata": {
        "id": "ZxttXiB4fqJ1"
      },
      "source": [
        ""
      ],
      "execution_count": 71,
      "outputs": []
    },
    {
      "cell_type": "code",
      "metadata": {
        "id": "dwJjonHQsuDt"
      },
      "source": [
        ""
      ],
      "execution_count": 71,
      "outputs": []
    },
    {
      "cell_type": "code",
      "metadata": {
        "id": "wAkOqeOBv8os"
      },
      "source": [
        ""
      ],
      "execution_count": 71,
      "outputs": []
    },
    {
      "cell_type": "code",
      "metadata": {
        "id": "1Ic59hZhv-6b"
      },
      "source": [
        ""
      ],
      "execution_count": 71,
      "outputs": []
    },
    {
      "cell_type": "code",
      "metadata": {
        "id": "iGt_5M8Bxf9u"
      },
      "source": [
        ""
      ],
      "execution_count": null,
      "outputs": []
    }
  ]
}